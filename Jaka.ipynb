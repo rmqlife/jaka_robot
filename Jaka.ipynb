{
 "cells": [
  {
   "cell_type": "code",
   "execution_count": null,
   "id": "cf85b785",
   "metadata": {},
   "outputs": [],
   "source": [
    "from jaka import Jaka\n",
    "# 200 is left and 100 is right\n",
    "arm  = Jaka(\"192.168.15.100\")\n",
    "arm.init_robot()\n",
    "point = arm.read_actual_tcp_point()\n",
    "print(point)"
   ]
  },
  {
   "cell_type": "code",
   "execution_count": null,
   "id": "dede3da2",
   "metadata": {},
   "outputs": [],
   "source": [
    "point[2] += 10\n",
    "print(point)\n",
    "arm.move_to_point2(point, 20)"
   ]
  },
  {
   "cell_type": "code",
   "execution_count": 5,
   "id": "19c07fe8",
   "metadata": {},
   "outputs": [
    {
     "name": "stdout",
     "output_type": "stream",
     "text": [
      "2\n",
      "16384\n",
      "15\n",
      "16752\n",
      "20\n",
      "16800\n",
      "17096\n",
      "17224\n",
      "17302\n"
     ]
    }
   ],
   "source": [
    "import time\n",
    "gripper_port = 0\n",
    "angle_port = 8\n",
    "speed_port = 12\n",
    "for j in [2,15,20]:\n",
    "    print(j)\n",
    "    arm.set_analog_output(0, j)\n",
    "    time.sleep(1)\n",
    "for j in [100, 200, 300]:\n",
    "    arm.set_analog_output(angle_port, j)\n",
    "    time.sleep(2)"
   ]
  },
  {
   "cell_type": "code",
   "execution_count": 1,
   "id": "d4f344ee",
   "metadata": {},
   "outputs": [
    {
     "ename": "AttributeError",
     "evalue": "'MyClass' object has no attribute 'nonexistent_function'",
     "output_type": "error",
     "traceback": [
      "\u001b[1;31m---------------------------------------------------------------------------\u001b[0m",
      "\u001b[1;31mAttributeError\u001b[0m                            Traceback (most recent call last)",
      "Cell \u001b[1;32mIn[1], line 9\u001b[0m\n\u001b[0;32m      6\u001b[0m my_object \u001b[38;5;241m=\u001b[39m MyClass()\n\u001b[0;32m      8\u001b[0m \u001b[38;5;66;03m# Calling a member function that does not exist\u001b[39;00m\n\u001b[1;32m----> 9\u001b[0m \u001b[43mmy_object\u001b[49m\u001b[38;5;241;43m.\u001b[39;49m\u001b[43mnonexistent_function\u001b[49m()\n",
      "\u001b[1;31mAttributeError\u001b[0m: 'MyClass' object has no attribute 'nonexistent_function'"
     ]
    }
   ],
   "source": [
    "class MyClass:\n",
    "    def __init__(self):\n",
    "        pass\n",
    "\n",
    "# Creating an instance of MyClass\n",
    "my_object = MyClass()\n",
    "\n",
    "# Calling a member function that does not exist\n",
    "my_object.nonexistent_function()"
   ]
  }
 ],
 "metadata": {
  "kernelspec": {
   "display_name": "Python 3 (ipykernel)",
   "language": "python",
   "name": "python3"
  },
  "language_info": {
   "codemirror_mode": {
    "name": "ipython",
    "version": 3
   },
   "file_extension": ".py",
   "mimetype": "text/x-python",
   "name": "python",
   "nbconvert_exporter": "python",
   "pygments_lexer": "ipython3",
   "version": "3.10.9"
  }
 },
 "nbformat": 4,
 "nbformat_minor": 5
}
