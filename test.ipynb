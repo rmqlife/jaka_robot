{
 "cells": [
  {
   "cell_type": "code",
   "execution_count": 6,
   "id": "d9b5ae53",
   "metadata": {},
   "outputs": [
    {
     "name": "stdout",
     "output_type": "stream",
     "text": [
      "finish ini robot\n"
     ]
    },
    {
     "data": {
      "text/plain": [
       "[-284.239617724543,\n",
       " 237.8111973609486,\n",
       " 563.9862823655535,\n",
       " -1.2243822428131355,\n",
       " 0.8732364719744473,\n",
       " 1.3184145259637667]"
      ]
     },
     "execution_count": 6,
     "metadata": {},
     "output_type": "execute_result"
    }
   ],
   "source": [
    "import jkrc\n",
    "from HanglokJKRC import HagJkrc\n",
    "\n",
    "import logging\n",
    "\n",
    "# Create a logger instance\n",
    "logger = logging.getLogger(\"my_logger\")\n",
    "logger.setLevel(logging.DEBUG)\n",
    "# 200 is left and 100 is right\n",
    "arm  = HagJkrc(logger, \"192.168.15.100\")\n",
    "arm.init_robot()\n",
    "arm.read_actual_tcp_point_all()"
   ]
  },
  {
   "cell_type": "code",
   "execution_count": 8,
   "id": "4d26395f",
   "metadata": {
    "scrolled": true
   },
   "outputs": [
    {
     "name": "stdout",
     "output_type": "stream",
     "text": [
      "[-284.239617724543, 237.8111973609486, 553.9862823655536, -1.2243822428131346, 0.8732364719744475, 1.3184145259637672]\n",
      "[-284.239617724543, 237.8111973609486, 543.9862823655536, -1.2243822428131346, 0.8732364719744475, 1.3184145259637672]\n",
      "[-284.239617724543, 237.8111973609486, 543.9862823655536, -1.2243822428131346, 0.8732364719744475, 1.3184145259637672]\n",
      "jaka is moving\n",
      "jaka move to point successfully\n"
     ]
    },
    {
     "data": {
      "text/plain": [
       "(0,)"
      ]
     },
     "execution_count": 8,
     "metadata": {},
     "output_type": "execute_result"
    }
   ],
   "source": [
    "point = arm.read_actual_tcp_point_all()\n",
    "print(point)\n",
    "point[2] -= 10\n",
    "print(point)\n",
    "arm.move_to_point(point, 20)\n"
   ]
  },
  {
   "cell_type": "code",
   "execution_count": 4,
   "id": "ce990e6c",
   "metadata": {},
   "outputs": [],
   "source": [
    "arm.set_digital(1) # 200 robot gripper, close/open"
   ]
  },
  {
   "cell_type": "code",
   "execution_count": null,
   "id": "faba9bc0",
   "metadata": {},
   "outputs": [],
   "source": [
    "arm.set_analog_output(0, 1)"
   ]
  },
  {
   "cell_type": "code",
   "execution_count": null,
   "id": "f7990ab2",
   "metadata": {},
   "outputs": [],
   "source": [
    "import time\n",
    "\n",
    "gripper_port = 0\n",
    "angle_port = 8\n",
    "speed_port = 12\n",
    "for j in [2,15,20]:\n",
    "    print(j)\n",
    "    arm.set_set_analog_output(0, j)\n",
    "    time.sleep(1)\n",
    "\n"
   ]
  },
  {
   "cell_type": "code",
   "execution_count": null,
   "id": "a9c87ac7",
   "metadata": {},
   "outputs": [],
   "source": [
    "angle_port = 8\n",
    "\n",
    "arm.set_set_analog_output(angle_port, )\n",
    "for i in [100,200,300]:\n",
    "    arm.set_set_analog_output(angle_port, i)\n",
    "    time.sleep(1)"
   ]
  }
 ],
 "metadata": {
  "kernelspec": {
   "display_name": "Python 3 (ipykernel)",
   "language": "python",
   "name": "python3"
  },
  "language_info": {
   "codemirror_mode": {
    "name": "ipython",
    "version": 3
   },
   "file_extension": ".py",
   "mimetype": "text/x-python",
   "name": "python",
   "nbconvert_exporter": "python",
   "pygments_lexer": "ipython3",
   "version": "3.10.9"
  }
 },
 "nbformat": 4,
 "nbformat_minor": 5
}
